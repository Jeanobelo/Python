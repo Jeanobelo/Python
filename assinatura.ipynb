{
 "cells": [
  {
   "cell_type": "code",
   "execution_count": 2,
   "id": "6221d78e-c9df-4937-8226-3b1d0b41e0f6",
   "metadata": {},
   "outputs": [
    {
     "name": "stdout",
     "output_type": "stream",
     "text": [
      "Assinatura salva em: C:\\Users\\jeano.dourado\\OneDrive - AQIA QUIMICA INOVATIVA LTDA\\Área de Trabalho\\PYTHON IMPRESSIONADOR\\29. Integração Python - Automação Web (Web-Scraping com Selenium)\\Assinatura\\Assinaturas\\jeano.douradoaqia.net.png\n",
      "Assinatura salva em: C:\\Users\\jeano.dourado\\OneDrive - AQIA QUIMICA INOVATIVA LTDA\\Área de Trabalho\\PYTHON IMPRESSIONADOR\\29. Integração Python - Automação Web (Web-Scraping com Selenium)\\Assinatura\\Assinaturas\\belo.douradoaqia.net.png\n"
     ]
    }
   ],
   "source": [
    "import os\n",
    "from PIL import Image, ImageDraw, ImageFont\n",
    "import pandas as pd\n",
    "\n",
    "# Carregar o modelo de banner\n",
    "modelo = 'Asiinaturas_Banner.png'\n",
    "lista = pd.read_excel('Assinaturas.xlsx')\n",
    "\n",
    "def create_signature(departamento, name, email, phone):\n",
    "    try:\n",
    "        # Carregar a imagem do modelo e converter para RGB\n",
    "        signature = Image.open(modelo).convert('RGB')\n",
    "        \n",
    "        # Definir fontes e tamanhos\n",
    "        try:\n",
    "            name_font = ImageFont.truetype(\"arial.ttf\", 35)\n",
    "            departamento_font = ImageFont.truetype(\"arial.ttf\", 25)\n",
    "            email_font = ImageFont.truetype(\"arial.ttf\", 30)\n",
    "            phone_font = ImageFont.truetype(\"arial.ttf\", 35)\n",
    "        except IOError:\n",
    "            # Caso a fonte não seja encontrada, usa a fonte padrão\n",
    "            name_font = ImageFont.load_default()\n",
    "            departamento_font = ImageFont.load_default()\n",
    "            email_font = ImageFont.load_default()\n",
    "            phone_font = ImageFont.load_default()\n",
    "            print(\"Fonte não encontrada. Usando fonte padrão.\")\n",
    "        \n",
    "        # Criar um contexto de desenho\n",
    "        draw = ImageDraw.Draw(signature)\n",
    "        \n",
    "        # Desenhar o texto na imagem\n",
    "        draw.text((400, 15), name, font=name_font, fill = (225,225,225))\n",
    "        draw.text((400, 60), departamento, font=departamento_font, fill= (225,225,225))\n",
    "        draw.text((400, 110), email, font=email_font, fill= (225,225,225))\n",
    "        draw.text((400, 160), phone, font=phone_font, fill=(225,225,225))\n",
    "        \n",
    "        return signature\n",
    "    except Exception as e:\n",
    "        print(f\"Erro ao criar assinatura: {e}\")\n",
    "        return None\n",
    "\n",
    "def create_signatures_and_save():\n",
    "    for index, row in lista.iterrows():\n",
    "        departamento = f'DEPT.{row.get('DEPARTAMENTO', '')}'\n",
    "        name = row.get('NOME', '')\n",
    "        email = f'E-mail: {row.get('EMAIL', '')}'\n",
    "        phone = f'Tel.: { row.get('TELEFONE', '')}'\n",
    "        \n",
    "        # Verificar se algum campo está vazio\n",
    "        if not departamento or not name or not email or not phone:\n",
    "            print(f\"Faltou informação na linha {index + 1}\")\n",
    "            continue\n",
    "        \n",
    "        # Criar a assinatura\n",
    "        signature = create_signature(departamento, name, email, phone)\n",
    "        \n",
    "        if signature:\n",
    "            # Sanitizar o nome do arquivo para evitar caracteres inválidos\n",
    "            safe_email = ''.join(c for c in email if c.isalnum() or c in ('_', '-', '.'))\n",
    "            safe_email = safe_email.replace('E-mail','')\n",
    "            # Construir o caminho completo para salvar a imagem\n",
    "            signature_path = os.path.join(os.getcwd(), 'Assinaturas', f'{safe_email}.png')\n",
    "            try:\n",
    "                signature.save(signature_path)\n",
    "                print(f\"Assinatura salva em: {signature_path}\")\n",
    "            except Exception as e:\n",
    "                print(f\"Erro ao salvar assinatura: {e}\")\n",
    "\n",
    "# Executar a função para criar e salvar as assinaturas\n",
    "create_signatures_and_save()\n"
   ]
  },
  {
   "cell_type": "code",
   "execution_count": null,
   "id": "92b9c46c-ef2a-4d7f-9f6d-f477e2912305",
   "metadata": {},
   "outputs": [],
   "source": []
  }
 ],
 "metadata": {
  "kernelspec": {
   "display_name": "Python 3 (ipykernel)",
   "language": "python",
   "name": "python3"
  },
  "language_info": {
   "codemirror_mode": {
    "name": "ipython",
    "version": 3
   },
   "file_extension": ".py",
   "mimetype": "text/x-python",
   "name": "python",
   "nbconvert_exporter": "python",
   "pygments_lexer": "ipython3",
   "version": "3.12.4"
  }
 },
 "nbformat": 4,
 "nbformat_minor": 5
}
